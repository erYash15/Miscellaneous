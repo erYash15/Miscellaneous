{
 "cells": [
  {
   "cell_type": "code",
   "execution_count": 10,
   "metadata": {},
   "outputs": [],
   "source": [
    "import pandas as pd\n",
    "import mlflow\n",
    "import mlflow.sklearn\n",
    "from sklearn.ensemble import RandomForestRegressor\n",
    "from sklearn.model_selection import train_test_split, GridSearchCV\n",
    "from sklearn.metrics import mean_squared_error\n",
    "from sklearn.datasets import fetch_california_housing\n",
    "# import dagshub"
   ]
  },
  {
   "cell_type": "code",
   "execution_count": 11,
   "metadata": {},
   "outputs": [],
   "source": [
    "# dagshub.init(repo_owner='eryash15', repo_name='mlflow-mlops', mlflow=True)"
   ]
  },
  {
   "cell_type": "code",
   "execution_count": 12,
   "metadata": {},
   "outputs": [
    {
     "name": "stdout",
     "output_type": "stream",
     "text": [
      "   MedInc  HouseAge  AveRooms  AveBedrms  Population  AveOccup  Latitude  \\\n",
      "0  8.3252      41.0  6.984127   1.023810       322.0  2.555556     37.88   \n",
      "1  8.3014      21.0  6.238137   0.971880      2401.0  2.109842     37.86   \n",
      "2  7.2574      52.0  8.288136   1.073446       496.0  2.802260     37.85   \n",
      "3  5.6431      52.0  5.817352   1.073059       558.0  2.547945     37.85   \n",
      "4  3.8462      52.0  6.281853   1.081081       565.0  2.181467     37.85   \n",
      "\n",
      "   Longitude  \n",
      "0    -122.23  \n",
      "1    -122.22  \n",
      "2    -122.24  \n",
      "3    -122.25  \n",
      "4    -122.25  \n",
      "[4.526 3.585 3.521 ... 0.923 0.847 0.894]\n"
     ]
    }
   ],
   "source": [
    "housing = fetch_california_housing()\n",
    "## Preparing the data\n",
    "data = pd.DataFrame(housing.data, columns=housing.feature_names)\n",
    "target = housing.target\n",
    "print(data.head(5))\n",
    "print(target)"
   ]
  },
  {
   "cell_type": "markdown",
   "metadata": {},
   "source": [
    "### Train Test Split, Model HyperParameter Tuning, MLFlow Experiments"
   ]
  },
  {
   "cell_type": "code",
   "execution_count": 13,
   "metadata": {},
   "outputs": [],
   "source": [
    "from urllib.parse import urlparse\n",
    "## Independent and Dependent Features\n",
    "X = data\n",
    "y = target\n",
    "## train test split\n",
    "X_train, X_test, y_train, y_test = train_test_split(X,y,test_size=0.20)"
   ]
  },
  {
   "cell_type": "code",
   "execution_count": 14,
   "metadata": {},
   "outputs": [],
   "source": [
    "## HPO tuning using GridSearchCV\n",
    "\n",
    "def hyperparameter_tuning(X_train,y_train,param_grid):\n",
    "    rf = RandomForestRegressor()\n",
    "    grid_search = GridSearchCV(\n",
    "        estimator=rf,\n",
    "        param_grid=param_grid,\n",
    "        cv=3,\n",
    "        n_jobs=-1,\n",
    "        verbose=10,\n",
    "        scoring=\"neg_mean_squared_error\"\n",
    "    )\n",
    "    grid_search.fit(X_train,y_train)\n",
    "    return grid_search"
   ]
  },
  {
   "cell_type": "code",
   "execution_count": 15,
   "metadata": {},
   "outputs": [
    {
     "name": "stdout",
     "output_type": "stream",
     "text": [
      "Run ID: 85e4d1c235f4444f89711f34ddc6c5cf\n",
      "Fitting 3 folds for each of 24 candidates, totalling 72 fits\n"
     ]
    },
    {
     "name": "stderr",
     "output_type": "stream",
     "text": [
      "2025/03/17 01:03:10 WARNING mlflow.models.model: Model logged without a signature and input example. Please set `input_example` parameter when logging the model to auto infer the model signature.\n",
      "Successfully registered model 'Best Randomforest Model'.\n",
      "2025/03/17 01:03:11 INFO mlflow.store.model_registry.abstract_store: Waiting up to 300 seconds for model version to finish creation. Model name: Best Randomforest Model, version 1\n",
      "Created version '1' of model 'Best Randomforest Model'.\n"
     ]
    },
    {
     "name": "stdout",
     "output_type": "stream",
     "text": [
      "🏃 View run polite-panda-584 at: http://127.0.0.1:5000/#/experiments/0/runs/85e4d1c235f4444f89711f34ddc6c5cf\n",
      "🧪 View experiment at: http://127.0.0.1:5000/#/experiments/0\n"
     ]
    }
   ],
   "source": [
    "from mlflow.models import infer_signature\n",
    "signature = infer_signature(X_train, y_train)\n",
    "\n",
    "# Define HPO grid\n",
    "param_grid = {\n",
    "'n_estimators': [100, 200],\n",
    "'max_depth': [5, 10, None],\n",
    "'min_samples_split': [2, 5],\n",
    "'min_samples_leaf': [1, 2]\n",
    "}\n",
    "\n",
    "with mlflow.start_run() as run:\n",
    "    print(\"Run ID:\", run.info.run_id)  # Debugging step:\n",
    "    ## perform hyperparameter tuning\n",
    "    gridsearch = hyperparameter_tuning(X_train, y_train, param_grid)\n",
    "    best_model = gridsearch.best_estimator_\n",
    "\n",
    "    # Evaluate the best model\n",
    "    y_pred = best_model.predict(X_test)\n",
    "    mse = mean_squared_error(y_test,y_pred)\n",
    "\n",
    "    ## log best parameters and metrics\n",
    "    mlflow.log_param(\"best_n_estimators\",gridsearch.best_params_['n_estimators'])\n",
    "    mlflow.log_param(\"best_max_depth\", gridsearch.best_params_['max_depth'])\n",
    "    mlflow.log_param(\"best_min_samples_split\", gridsearch.best_params_['min_samples_split'])\n",
    "    mlflow.log_param(\"best_min_samples_leaf\", gridsearch.best_params_['min_samples_leaf'])\n",
    "    mlflow.log_metric(\"mse\", mse)\n",
    "\n",
    "    mlflow.set_tracking_uri(uri=\"http://127.0.0.1:5000\")\n",
    "    tracking_url_type_store=urlparse(mlflow.get_tracking_uri()).scheme\n",
    "\n",
    "    if tracking_url_type_store != 'file' :\n",
    "        mlflow.sklearn.log_model(best_model,\"model\",registered_model_name=\"Best Randomforest Model\")\n",
    "    else:\n",
    "        mlflow.sklearn.log_model(best_model,\"model\",signature=signature)"
   ]
  },
  {
   "cell_type": "code",
   "execution_count": null,
   "metadata": {},
   "outputs": [],
   "source": []
  }
 ],
 "metadata": {
  "kernelspec": {
   "display_name": "kenv",
   "language": "python",
   "name": "python3"
  },
  "language_info": {
   "codemirror_mode": {
    "name": "ipython",
    "version": 3
   },
   "file_extension": ".py",
   "mimetype": "text/x-python",
   "name": "python",
   "nbconvert_exporter": "python",
   "pygments_lexer": "ipython3",
   "version": "3.13.2"
  }
 },
 "nbformat": 4,
 "nbformat_minor": 2
}
