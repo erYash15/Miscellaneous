{
  "cells": [
    {
      "cell_type": "markdown",
      "metadata": {
        "id": "MzZ4dJQYF7sH"
      },
      "source": [
        "# Artificial and Computational Intelligence Assignment 1"
      ]
    },
    {
      "cell_type": "markdown",
      "metadata": {
        "id": "Fxb1aE9zF7sK"
      },
      "source": [
        "## Problem solving by Uninformed & Informed Search"
      ]
    },
    {
      "cell_type": "markdown",
      "metadata": {
        "id": "h35jIBbCF7sK"
      },
      "source": [
        "List only the BITS (Name) of active contributors in this assignment:\n",
        "1. Yash Gupta\n",
        "2. __________________\n",
        "3. ____________________\n",
        "4. ___________________\n",
        "5. ___________________"
      ]
    },
    {
      "cell_type": "markdown",
      "metadata": {
        "id": "pt5ygv_zF7sL"
      },
      "source": [
        "Things to follow\n",
        "1.\tUse appropriate data structures to represent the graph and the path using python libraries\n",
        "2.\tProvide proper documentation\n",
        "3.\tFind the path and print it"
      ]
    },
    {
      "cell_type": "markdown",
      "metadata": {
        "id": "wZfop5ElF7sL"
      },
      "source": [
        "Coding begins here"
      ]
    },
    {
      "cell_type": "markdown",
      "metadata": {
        "id": "IL0QDMy3F7sL"
      },
      "source": [
        "### 1.\tDefine the environment in the following block"
      ]
    },
    {
      "cell_type": "markdown",
      "metadata": {
        "id": "RYwJPNLIF7sM"
      },
      "source": [
        "List the PEAS decription of the problem here in this markdown block\n",
        "\n",
        "<u>**Performance Measure:**</u>\n",
        "\n",
        "**Minimize Travel Time**: The primary goal is to find the route that minimizes the total travel time from City A to City B. This can be achieved by travelling minimum distance.\n",
        "\n",
        "\n",
        "\n"
      ]
    },
    {
      "cell_type": "markdown",
      "metadata": {
        "id": "XJ3cHp1IF7sM"
      },
      "source": [
        "Design the agent as PSA Agent(Problem Solving Agent)\n",
        "Clear Initial data structures to define the graph and variable declarations is expected\n",
        "IMPORTATANT: Write distinct code block as below"
      ]
    },
    {
      "cell_type": "code",
      "execution_count": 3,
      "metadata": {},
      "outputs": [],
      "source": [
        "# Necessary Imports\n",
        "import numpy as np\n",
        "from typing import Tuple"
      ]
    },
    {
      "cell_type": "code",
      "execution_count": 6,
      "metadata": {
        "id": "osp61RsLF7sN"
      },
      "outputs": [],
      "source": [
        "#Code Block : Set Initial State (Must handle dynamic inputs)\n",
        "default_initial_state = \"Panji\"\n",
        "initial_state = input(f\"Enter Initial State (default: {default_initial_state}): \")\n",
        "initial_state  = initial_state.strip() or default_initial_state"
      ]
    },
    {
      "cell_type": "markdown",
      "metadata": {},
      "source": [
        "<img src=\"image.png\" alt=\"Image\" width=\"400\"/>"
      ]
    },
    {
      "cell_type": "code",
      "execution_count": 4,
      "metadata": {
        "id": "XODwoWZ0F7sO"
      },
      "outputs": [
        {
          "data": {
            "text/plain": [
              "[[0, 457, -1, 365, -1, -1, -1, -1, -1, -1],\n",
              " [457, 0, 100, -1, -1, 453, -1, -1, -1, -1],\n",
              " [-1, 100, 0, -1, -1, -1, -1, -1, -1, 325],\n",
              " [365, -1, -1, 0, -1, -1, 233, 352, -1, -1],\n",
              " [-1, -1, -1, -1, 0, 379, -1, 153, -1, -1],\n",
              " [-1, 453, -1, -1, 379, 0, -1, -1, 153, -1],\n",
              " [-1, -1, -1, 233, -1, -1, 0, 356, -1, -1],\n",
              " [-1, -1, -1, 352, 153, -1, 356, 0, 346, -1],\n",
              " [-1, -1, -1, -1, -1, 153, -1, 346, 0, 175],\n",
              " [-1, -1, 325, -1, -1, -1, -1, -1, 175, 0]]"
            ]
          },
          "execution_count": 4,
          "metadata": {},
          "output_type": "execute_result"
        }
      ],
      "source": [
        "#Code Block : Set the matrix for transition & cost (as relevant for the given problem)\n",
        "nodes = {\n",
        "    \"Panaji\":0,\n",
        "    \"Raichur\":1,\n",
        "    \"Kurnool\":2,\n",
        "    \"Mangalore\":3,\n",
        "    \"Bellari\":4,\n",
        "    \"Tirupathi\":5,\n",
        "    \"Kozhikode\":6,\n",
        "    \"Bangalore\":7,\n",
        "    \"Chennai\":8,\n",
        "    \"Nellore\":9\n",
        "}\n",
        "edges = [\n",
        "    (0, 3, 365), (0, 1, 457),\n",
        "    (1, 0, 457), (1, 5, 453), (1, 2, 100),\n",
        "    (2, 1, 100), (2, 9, 325),\n",
        "    (3, 0, 365), (3, 6, 233), (3, 7, 352),\n",
        "    (4, 5, 379), (4, 7, 153),\n",
        "    (5, 1, 453), (5, 4, 379), (5, 8, 153),\n",
        "    (6, 3, 233), (6, 7, 356),\n",
        "    (7, 4, 153), (7, 3, 352), (7, 6, 356), (7, 8, 346),\n",
        "    (8, 5, 153), (8, 7, 346), (8, 9, 175),\n",
        "    (9, 2, 325), (9, 8, 175),\n",
        "]\n",
        "\n",
        "cost_matrix = [ [ -1 for _ in range(len(nodes))] for _ in range(len(nodes)) ]\n",
        "\n",
        "for city_a, city_b, cost in edges:\n",
        "    cost_matrix[city_a][city_b] = cost\n",
        "for city in range(len(nodes)):\n",
        "    cost_matrix[city][city] = 0\n",
        "\n",
        "cost_matrix"
      ]
    },
    {
      "cell_type": "code",
      "execution_count": null,
      "metadata": {
        "id": "ro24Gaj7F7sO"
      },
      "outputs": [],
      "source": [
        "#Code Block : Write function to design the Transition Model/Successor function. Ideally this would be called while search algorithms are implemented"
      ]
    },
    {
      "cell_type": "code",
      "execution_count": null,
      "metadata": {
        "id": "HIVPhrRWF7sO"
      },
      "outputs": [],
      "source": [
        "#Code block : Write fucntion to handle goal test (Must handle dynamic inputs). Ideally this would be called while search algorithms are implemented\n"
      ]
    },
    {
      "cell_type": "markdown",
      "metadata": {
        "id": "Z4QwDeX5F7sO"
      },
      "source": [
        "### 2.\tDefinition of Algorithm 1 (A*)"
      ]
    },
    {
      "cell_type": "code",
      "execution_count": 2,
      "metadata": {
        "id": "zD_EPCHWF7sO"
      },
      "outputs": [],
      "source": [
        "#Code Block : Function for algorithm 1 implementation\n",
        "\n",
        "def haversine(\n",
        "        coord1: Tuple[float, float],\n",
        "        coord2: Tuple[float, float]\n",
        "    ) -> float:\n",
        "    \"\"\"\n",
        "        Calculate the great-circle distance between two points on the Earth's surface given their latitude and longitude.\n",
        "\n",
        "    Args:\n",
        "        coord1 (Tuple[float, float]): (latitude, longitude) for the first point in decimal degrees.\n",
        "        coord2 (Tuple[float, float]): (latitude, longitude) for the second point in decimal degrees.\n",
        "\n",
        "    Returns:\n",
        "        float: Distance between the two points in kilometers.\n",
        "    \"\"\"\n",
        "    lat1, lon1 = coord1\n",
        "    lat2, lon2 = coord2\n",
        "\n",
        "    # Validate input\n",
        "    for coord in [coord1, coord2]:\n",
        "        if not (-90 <= coord[0] <= 90 and -180 <= coord[1] <= 180):\n",
        "            raise ValueError(f\"Invalid latitude or longitude in {coord}. \"\n",
        "                             \"Latitudes must be in the range [-90, 90] and longitudes in [-180, 180].\")\n",
        "\n",
        "    # Convert decimal degrees to radians\n",
        "    lat1, lon1, lat2, lon2 = map(np.radians, [lat1, lon1, lat2, lon2])\n",
        "\n",
        "    # Haversine formula\n",
        "    dlat = lat2 - lat1\n",
        "    dlon = lon2 - lon1\n",
        "    a = np.sin(dlat / 2)**2 + np.cos(lat1) * np.cos(lat2) * np.sin(dlon / 2)**2\n",
        "    c = 2 * np.arcsin(np.sqrt(a))\n",
        "    r = 6371  # Radius of the Earth in kilometers\n",
        "\n",
        "    return c * r"
      ]
    },
    {
      "cell_type": "code",
      "execution_count": null,
      "metadata": {},
      "outputs": [],
      "source": []
    },
    {
      "cell_type": "markdown",
      "metadata": {
        "id": "KnbdDl6HF7sO"
      },
      "source": [
        "### 3.\tDefinition of Algorithm 2 (Mention the Name of the algorithm here)"
      ]
    },
    {
      "cell_type": "code",
      "execution_count": null,
      "metadata": {
        "id": "3HYh7-eJF7sP"
      },
      "outputs": [],
      "source": [
        "#Code Block : Function for algorithm 2 implementation"
      ]
    },
    {
      "cell_type": "markdown",
      "metadata": {
        "id": "LEV2XHccF7sP"
      },
      "source": [
        "### DYNAMIC INPUT"
      ]
    },
    {
      "cell_type": "markdown",
      "metadata": {
        "id": "CylYRo_DF7sP"
      },
      "source": [
        "IMPORTANT : Dynamic Input must be got in this section. Display the possible states to choose from:\n",
        "This is applicable for all the relevent problems as mentioned in the question."
      ]
    },
    {
      "cell_type": "code",
      "execution_count": null,
      "metadata": {
        "id": "Q5t1Lc-wF7sP"
      },
      "outputs": [],
      "source": [
        "#Code Block : Function & call to get inputs (start/end state)"
      ]
    },
    {
      "cell_type": "markdown",
      "metadata": {
        "id": "xsfOP81lF7sP"
      },
      "source": [
        "### 4.\tCalling the search algorithms\n",
        "(For bidirectional search in below sections first part can be used as per Hint provided. Under second section other combinations as per Hint or your choice of 2 algorithms can be called .As an analyst suggest suitable approximation in the comparitive analysis section)"
      ]
    },
    {
      "cell_type": "code",
      "execution_count": null,
      "metadata": {
        "id": "Og5zI9thF7sP"
      },
      "outputs": [],
      "source": [
        "#Invoke algorithm 1 (Should Print the solution, path, cost etc., (As mentioned in the problem))"
      ]
    },
    {
      "cell_type": "code",
      "execution_count": null,
      "metadata": {
        "id": "u3MJeA6eF7sP"
      },
      "outputs": [],
      "source": [
        "#Invoke algorithm 2 (Should Print the solution, path, cost etc., (As mentioned in the problem))"
      ]
    },
    {
      "cell_type": "markdown",
      "metadata": {
        "id": "TOU3Rem6F7sQ"
      },
      "source": [
        "### 5.\tComparitive Analysis"
      ]
    },
    {
      "cell_type": "code",
      "execution_count": null,
      "metadata": {
        "id": "HG6fWwiIF7sQ"
      },
      "outputs": [],
      "source": [
        "#Code Block : Print the Time & Space complexity of algorithm 1"
      ]
    },
    {
      "cell_type": "code",
      "execution_count": null,
      "metadata": {
        "id": "xMButLKCF7sQ"
      },
      "outputs": [],
      "source": [
        "#Code Block : Print the Time & Space complexity of algorithm 2"
      ]
    },
    {
      "cell_type": "markdown",
      "metadata": {
        "id": "y2nXwAlsF7sQ"
      },
      "source": [
        "### 6.\tProvide your comparitive analysis or findings in no more than 3 lines in below section"
      ]
    },
    {
      "cell_type": "markdown",
      "metadata": {
        "id": "si483-zoF7sQ"
      },
      "source": [
        "Comparison : _______________________________________________\n",
        "\n",
        "________________________________________________________\n",
        "\n",
        "_________________________________________________________"
      ]
    }
  ],
  "metadata": {
    "colab": {
      "provenance": []
    },
    "kernelspec": {
      "display_name": "Python 3",
      "language": "python",
      "name": "python3"
    },
    "language_info": {
      "codemirror_mode": {
        "name": "ipython",
        "version": 3
      },
      "file_extension": ".py",
      "mimetype": "text/x-python",
      "name": "python",
      "nbconvert_exporter": "python",
      "pygments_lexer": "ipython3",
      "version": "3.8.12"
    }
  },
  "nbformat": 4,
  "nbformat_minor": 0
}
