{
 "cells": [
  {
   "cell_type": "code",
   "execution_count": 1,
   "id": "a2faa409",
   "metadata": {},
   "outputs": [
    {
     "name": "stderr",
     "output_type": "stream",
     "text": [
      "/Users/guptayas/.pyenv/versions/pfenv/lib/python3.10/site-packages/sklearn/utils/_param_validation.py:14: UserWarning: A NumPy version >=1.23.5 and <2.5.0 is required for this version of SciPy (detected version 1.23.1)\n",
      "  from scipy.sparse import csr_matrix, issparse\n"
     ]
    }
   ],
   "source": [
    "import numpy as np\n",
    "from collections import Counter\n",
    "from sklearn import datasets\n",
    "from sklearn.model_selection import train_test_split"
   ]
  },
  {
   "cell_type": "code",
   "execution_count": 2,
   "id": "0335ed80",
   "metadata": {},
   "outputs": [],
   "source": [
    "class Node:\n",
    "    def __init__(self, feature=None, threshold=None, left=None, right=None, *, value=None):\n",
    "        self.feature = feature          # Feature index used for splitting\n",
    "        self.threshold = threshold      # Value used for splitting\n",
    "        self.left = left                # Left child node (<= threshold)\n",
    "        self.right = right              # Right child node (> threshold)\n",
    "        self.value = value              # If leaf node, holds class label\n",
    "    \n",
    "    def is_leaf_node(self):\n",
    "        return self.value is not None\n",
    "\n",
    "class DecisionTreeClassifier:\n",
    "    def __init__(self, max_depth=10, min_sample_split=2, n_features = 10):\n",
    "        self.max_depth = max_depth\n",
    "        self.min_sample_split = min_sample_split\n",
    "        self.n_features = n_features\n",
    "        self.root = None\n",
    "        \n",
    "    def fit(self, X, y):\n",
    "        self.n_features = X.shape[1] if not self.n_features else min(self.n_features, X.shape[1])\n",
    "        self.root = self._build_tree(X,y)\n",
    "        \n",
    "    def _build_tree(self, X, y, depth=0):\n",
    "        n_sample, n_feats = X.shape\n",
    "        n_labels = len(np.unique(y))\n",
    "        \n",
    "        # Step 1: Check the stopping criteria\n",
    "        if (\n",
    "            depth>self.max_depth or \n",
    "            n_labels==1 or \n",
    "            n_sample<self.min_sample_split\n",
    "        ):\n",
    "            leaf_value = self._most_common_label(y)\n",
    "            return Node(value=leaf_value)\n",
    "\n",
    "        \n",
    "\n",
    "        # Step 2: Find the best split\n",
    "        feat_idx = np.random.choice(n_feats, self.n_features, replace=False)\n",
    "        \n",
    "        best_feature, best_thresh = self._best_split(X, y, feat_idx)\n",
    "        \n",
    "        # Step 3: Create child nodes\n",
    "        left_idxs, right_idxs = self._split(X[:,best_feature], best_thresh)\n",
    "        left = self._build_tree(X[left_idxs,:], y[left_idxs], depth+1)\n",
    "        right = self._build_tree(X[right_idxs,:], y[right_idxs], depth+1)\n",
    "        \n",
    "        return Node(best_feature, best_thresh, left,right) \n",
    "        \n",
    "        \n",
    "    def _best_split(self, X, y, feat_idxs):\n",
    "        \n",
    "        best_gain = -1\n",
    "        split_idx, split_threshold = None, None\n",
    "        \n",
    "        for feat_idx in feat_idxs:\n",
    "            X_column = X[:, feat_idx]\n",
    "            thresholds = np.unique(X_column)\n",
    "            \n",
    "            for thr in thresholds:\n",
    "                gain = self._information_gain(y, X_column, thr)\n",
    "                \n",
    "                if gain > best_gain:\n",
    "                    best_gain = gain\n",
    "                    split_idx = feat_idx\n",
    "                    split_threshold = thr\n",
    "                    \n",
    "        return split_idx, split_threshold\n",
    "                    \n",
    "    \n",
    "    def _information_gain(self, y, X_column, thr):\n",
    "        # Parents Entropy\n",
    "        parent_entropy = self._entropy(y)\n",
    "        # Children Entropy\n",
    "        left_idx, right_idx = self._split(X_column, thr)\n",
    "        \n",
    "        if len(left_idx) == 0 or len(right_idx) == 0:\n",
    "            return 0\n",
    "    \n",
    "        # Calculate the Weighted Avg Entropy of Children\n",
    "        n = len(y)\n",
    "        n_l, n_r = len(left_idx), len(right_idx)\n",
    "        e_l, e_r = self._entropy(y[left_idx]), self._entropy(y[right_idx])\n",
    "        child_entropy = (n_l/n)*e_l + (n_r/n)*e_r\n",
    "        \n",
    "        # Calculate the IG\n",
    "        information_gain = parent_entropy - child_entropy\n",
    "        return information_gain\n",
    "        \n",
    "        \n",
    "    def _split(self, X_column, split_thresh):\n",
    "        left_idxs = np.argwhere(X_column<= split_thresh).flatten()\n",
    "        right_idxs = np.argwhere(X_column> split_thresh).flatten()\n",
    "        return left_idxs, right_idxs\n",
    "        \n",
    "    def _entropy(self,y):\n",
    "        hist = np.bincount(y)\n",
    "        ps = hist / len(y)\n",
    "        return -np.sum([p*np.log(p) for p in ps if p>0])\n",
    "    \n",
    "        \n",
    "    def _most_common_label(self, y):\n",
    "        counter = Counter(y)\n",
    "        return counter.most_common(1)[0][0]\n",
    "        \n",
    "    def predict(self, X):\n",
    "        return np.array([self._traverse_tree(x, self.root) for x in X])\n",
    "\n",
    "    def _traverse_tree(self, x, node):\n",
    "        if node.is_leaf_node():\n",
    "            return node.value\n",
    "        \n",
    "        if x[node.feature] <= node.threshold:\n",
    "            return self._traverse_tree(x,node.left)\n",
    "        return self._traverse_tree(x,node.right)"
   ]
  },
  {
   "cell_type": "code",
   "execution_count": 3,
   "id": "053a8cf8",
   "metadata": {},
   "outputs": [],
   "source": [
    "class RandomForestClassifier:\n",
    "    def __init__(self, n_trees = 10, max_depth=10, min_sample_split=2, n_features=None):\n",
    "        self.n_trees = n_trees\n",
    "        self.max_depth = max_depth\n",
    "        self.min_sample_split = min_sample_split\n",
    "        self.n_features = n_features\n",
    "        self.trees = []\n",
    "        \n",
    "    def fit(self, X, y):\n",
    "        \n",
    "        for _ in range(self.n_trees):\n",
    "            tree = DecisionTreeClassifier(\n",
    "                min_sample_split=self.min_sample_split,\n",
    "                max_depth=self.max_depth,\n",
    "                n_features=self.n_features\n",
    "            )\n",
    "            X_sample, y_sample = self._bootstrap_samples(X,y)\n",
    "            tree.fit(X_sample, y_sample)\n",
    "            self.trees.append(tree)\n",
    "    \n",
    "    def _bootstrap_samples(self, X, y):\n",
    "        n_samples = X.shape[0]\n",
    "        idxs = np.random.choice(n_samples, n_samples, replace=True)\n",
    "        return X[idxs], y[idxs]\n",
    "        \n",
    "    def _most_common_label(self, y):\n",
    "        counter = Counter(y)\n",
    "        return counter.most_common(1)[0][0]\n",
    "        \n",
    "    def predict(self, X):\n",
    "        predictions = np.array([tree.predict(X) for tree in self.trees])\n",
    "        tree_preds = np.swapaxes(predictions, 0 ,1)\n",
    "        predictions = np.array([self._most_common_label(pred) for pred in tree_preds])\n",
    "        return predictions"
   ]
  },
  {
   "cell_type": "code",
   "execution_count": 4,
   "id": "3876cb17",
   "metadata": {},
   "outputs": [],
   "source": [
    "data = datasets.load_breast_cancer()\n",
    "X, y = data.data, data.target\n",
    "X_train, X_test, y_train, y_test = train_test_split(\n",
    "    X, y, test_size=0.2, random_state=1234\n",
    ")"
   ]
  },
  {
   "cell_type": "code",
   "execution_count": 5,
   "id": "befeb527",
   "metadata": {},
   "outputs": [],
   "source": [
    "clf = RandomForestClassifier()"
   ]
  },
  {
   "cell_type": "code",
   "execution_count": 6,
   "id": "8bbcbea7",
   "metadata": {},
   "outputs": [],
   "source": [
    "clf.fit(X_train,y_train)"
   ]
  },
  {
   "cell_type": "code",
   "execution_count": 7,
   "id": "f7f5adee",
   "metadata": {},
   "outputs": [],
   "source": [
    "y_pred = clf.predict(X_test)"
   ]
  },
  {
   "cell_type": "code",
   "execution_count": 8,
   "id": "04cfbe9e",
   "metadata": {},
   "outputs": [],
   "source": [
    "def accuracy(y_pred, y_true):\n",
    "    return sum(y_pred==y_true)/len(y_pred)"
   ]
  },
  {
   "cell_type": "code",
   "execution_count": 9,
   "id": "67f4ea3e",
   "metadata": {},
   "outputs": [
    {
     "data": {
      "text/plain": [
       "0.9385964912280702"
      ]
     },
     "execution_count": 9,
     "metadata": {},
     "output_type": "execute_result"
    }
   ],
   "source": [
    "accuracy(y_pred, y_test)"
   ]
  }
 ],
 "metadata": {
  "kernelspec": {
   "display_name": "pfenv",
   "language": "python",
   "name": "python3"
  },
  "language_info": {
   "codemirror_mode": {
    "name": "ipython",
    "version": 3
   },
   "file_extension": ".py",
   "mimetype": "text/x-python",
   "name": "python",
   "nbconvert_exporter": "python",
   "pygments_lexer": "ipython3",
   "version": "3.10.10"
  }
 },
 "nbformat": 4,
 "nbformat_minor": 5
}
